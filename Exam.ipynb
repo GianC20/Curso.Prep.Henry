{
  "nbformat": 4,
  "nbformat_minor": 0,
  "metadata": {
    "colab": {
      "provenance": [],
      "authorship_tag": "ABX9TyPw4Fqf9mnlF1sioTivxUkH",
      "include_colab_link": true
    },
    "kernelspec": {
      "name": "python3",
      "display_name": "Python 3"
    },
    "language_info": {
      "name": "python"
    }
  },
  "cells": [
    {
      "cell_type": "markdown",
      "metadata": {
        "id": "view-in-github",
        "colab_type": "text"
      },
      "source": [
        "<a href=\"https://colab.research.google.com/github/GianC20/Curso.Prep.Henry/blob/master/Exam.ipynb\" target=\"_parent\"><img src=\"https://colab.research.google.com/assets/colab-badge.svg\" alt=\"Open In Colab\"/></a>"
      ]
    },
    {
      "cell_type": "code",
      "execution_count": 24,
      "metadata": {
        "colab": {
          "base_uri": "https://localhost:8080/"
        },
        "id": "_uZpF_ttgDAR",
        "outputId": "6245d444-92ca-4a87-9b48-77fa8d73146d"
      },
      "outputs": [
        {
          "output_type": "stream",
          "name": "stdout",
          "text": [
            "Dime tu tarjeta (4 digitos):\n",
            "4975\n",
            "Ingrese su codigo (4 digitos):\n",
            "7615\n",
            "\n",
            "Bienvenido Juan Paz\n",
            "\n",
            "\n",
            "Su saldo es: 5000\n",
            "\n",
            "¿Qué operacion desea realizar?\n",
            " 1.Deposito \n",
            " 2.Retiro\n",
            "1\n",
            "Ingrese el monto:500\n",
            "¿Quieres realizar otra operacion si/no}?:si\n",
            "¿Qué operacion desea realizar?\n",
            " 1.Deposito \n",
            " 2.Retiro\n",
            "2\n",
            "Ingrese el monto:300\n",
            "¿Quieres realizar otra operacion si/no}?:no\n",
            "\n",
            "Estado de cuenta de  4975\n",
            "Tu saldo inicial era  300.0\n",
            "\n",
            "            Movimientos\n",
            "   \n",
            "  Operacion  Importe   Saldo\n",
            "0  Deposito    500.0  5500.0\n",
            "1    Retiro    300.0  5200.0\n",
            "Tu nuevo saldo es 5200.0\n"
          ]
        }
      ],
      "source": [
        "from pandas.io.parsers.readers import is_file_like\n",
        "from pandas.core.arrays.categorical import simplefilter\n",
        "import numpy as np\n",
        "import pandas as pd\n",
        "cl1 = {'pwd' : '7615', 'saldo': 5000 , 'name':'Juan Paz'}\n",
        "cl2 = {'pwd' : '0109', 'saldo': 2500 , 'name':'Marian Aguirre'}\n",
        "cl3 = {'pwd' : '9402', 'saldo': 4000 , 'name':'Miguel Barrera'}\n",
        "cl4 = {'pwd' : '0674', 'saldo': 3000 , 'name':'Aracely Salazar'}\n",
        "banco ={ '4975' : cl1, '4913' : cl2, '4934' :cl3, '4970' : cl4}\n",
        "\n",
        "tarjeta = input('Dime tu tarjeta (4 digitos):\\n')\n",
        "while tarjeta not in banco.keys():\n",
        "  print('¡Tarjeta no registrada!')\n",
        "\n",
        "  tarjeta = input('Por favor ingrese una tarjeta existente:\\n')\n",
        "pwd = input('Ingrese su codigo (4 digitos):\\n')\n",
        "while pwd != banco[tarjeta]['pwd']:\n",
        "\n",
        "  print('¡Codigo incorrecto!')\n",
        "  pwd = input(f'Por favor ingrese su codigo nuevamente\\n')\n",
        "name = banco[tarjeta]['name']\n",
        "\n",
        "print(f'\\nBienvenido {name}\\n')\n",
        "saldo_actual = banco[tarjeta]['saldo']\n",
        "\n",
        "print(f'\\nSu saldo es: {saldo_actual}\\n')\n",
        "new_val='si'\n",
        "operacion=[]\n",
        "importe=[]\n",
        "saldo=[]\n",
        "\n",
        "while new_val.lower()=='si':\n",
        " while True:\n",
        "   resp = input('¿Qué operacion desea realizar?\\n 1.Deposito \\n 2.Retiro\\n')\n",
        "   if resp=='1' or resp=='2':\n",
        "      break\n",
        "   else :\n",
        "      print('Tiene que digitar una opción válida')\n",
        " monto = float(input('Ingrese el monto:'))\n",
        "\n",
        " while True:\n",
        "  if saldo_actual>monto:\n",
        "    if resp=='1':\n",
        "     operacion.append('Deposito')\n",
        "     saldo_1 = saldo_actual + monto\n",
        "    elif resp=='2':\n",
        "     operacion.append('Retiro')\n",
        "     saldo_1 = saldo_actual - monto\n",
        "    importe.append(monto)\n",
        "    saldo.append(saldo_1)\n",
        "    break\n",
        "  else :\n",
        "      print(\"No cuenta con saldo suficiente\\n 1.Deposito \\n 2.Retiro\\n\")\n",
        "\n",
        " while True:\n",
        "  new_val = input('¿Quieres realizar otra operacion si/no}?:')\n",
        "  if new_val.lower()=='si':\n",
        "      break\n",
        "  if new_val.lower()=='no':\n",
        "   diccionario={'Operacion':operacion,'Importe':importe,'Saldo':saldo}\n",
        "   print(f'\\nEstado de cuenta de  {tarjeta}')\n",
        " \n",
        "   print('\\n            Movimientos\\n   ')\n",
        "   print(pd.DataFrame(diccionario))\n",
        "   print(f'Tu nuevo saldo es {saldo_1}')\n",
        "   break\n",
        "\n",
        "  else:\n",
        "   print('Elija una opcion valida ')\n",
        " saldo_actual=saldo_1"
      ]
    },
    {
      "cell_type": "code",
      "source": [],
      "metadata": {
        "id": "ECqPQrkLmquW"
      },
      "execution_count": 24,
      "outputs": []
    }
  ]
}