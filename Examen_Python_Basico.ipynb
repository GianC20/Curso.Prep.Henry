{
  "nbformat": 4,
  "nbformat_minor": 0,
  "metadata": {
    "colab": {
      "provenance": [],
      "toc_visible": true,
      "include_colab_link": true
    },
    "kernelspec": {
      "name": "python3",
      "display_name": "Python 3"
    },
    "language_info": {
      "name": "python"
    }
  },
  "cells": [
    {
      "cell_type": "markdown",
      "metadata": {
        "id": "view-in-github",
        "colab_type": "text"
      },
      "source": [
        "<a href=\"https://colab.research.google.com/github/GianC20/Curso.Prep.Henry/blob/master/Examen_Python_Basico.ipynb\" target=\"_parent\"><img src=\"https://colab.research.google.com/assets/colab-badge.svg\" alt=\"Open In Colab\"/></a>"
      ]
    },
    {
      "cell_type": "markdown",
      "source": [
        "# Tipo I: Enfoque programación"
      ],
      "metadata": {
        "id": "S9CEeYy6pEpM"
      }
    },
    {
      "cell_type": "markdown",
      "source": [
        "## Objetivo\n",
        "Simular un sistema de cajero en donde se registran las operaciones de deposito y retiro de una cuenta de ahorros. Los datos de la tarjeta, clave, saldo se encuentran anidados en el siguiente diccionario."
      ],
      "metadata": {
        "id": "d49nyLs2pKMM"
      }
    },
    {
      "cell_type": "code",
      "source": [
        "import numpy as np\n",
        "import pandas as pd\n",
        "cl1 = {'pwd' : '7615', 'saldo': 5000 , 'name':'Juan Paz'}\n",
        "cl2 = {'pwd' : '0109', 'saldo': 2500 , 'name':'Marian Aguirre'}\n",
        "cl3 = {'pwd' : '9402', 'saldo': 4000 , 'name':'Miguel Barrera'}\n",
        "cl4 = {'pwd' : '0674', 'saldo': 3000 , 'name':'Aracely Salazar'}\n",
        "banco={ '4975' : cl1, '4913' : cl2, '4934' :cl3, '4970' : cl4}\n",
        "banco"
      ],
      "metadata": {
        "colab": {
          "base_uri": "https://localhost:8080/"
        },
        "id": "ePB6hTT7qo5T",
        "outputId": "d0c342ab-6ce8-4680-8e1b-afcc622d449f"
      },
      "execution_count": null,
      "outputs": [
        {
          "output_type": "execute_result",
          "data": {
            "text/plain": [
              "{'4975': {'pwd': '7615', 'saldo': 5000, 'name': 'Juan Paz'},\n",
              " '4913': {'pwd': '0109', 'saldo': 2500, 'name': 'Marian Aguirre'},\n",
              " '4934': {'pwd': '9402', 'saldo': 4000, 'name': 'Miguel Barrera'},\n",
              " '4970': {'pwd': '0674', 'saldo': 3000, 'name': 'Aracely Salazar'}}"
            ]
          },
          "metadata": {},
          "execution_count": 1
        }
      ]
    },
    {
      "cell_type": "markdown",
      "source": [
        "## Condiciones\n",
        "\n",
        "\n",
        "*   Los mensajes que guien al usurario deben ser claros(1p)\n",
        "*   Ningun dato ingresado por el usuario puede generar un error que detenga el programa, siempre que el usuario coloque numeros.(4p)\n",
        "*   Si el numero de tarjeta ingresado no se encuentra en la data se debe indicar que no esta registrado e insistir con el ingreso de un numero correcto(1p)\n",
        "*   Si la calve es incorrecta se le debe insistir en colocar la clave correcta(1p)\n",
        "*   Si el usuario y la clave son correctos se le da la bienvenida(1p)\n",
        "*   No se puede retirar un importe que deje en negativo el saldo(3p)\n",
        "*   Al finalizar una operacion se debe preguntar si es que se desea continuar o hacer otra operacion(2p)\n",
        "*   Al finalizar todas las operaciones se debe mostrar en pantalla un estado de cuenta e informar los saldos iniciales y finales(4p)\n",
        "*   Se debe exportar en excel la tabla de movimientos mostrado en el estado de cuenta(3p)\n",
        "\n"
      ],
      "metadata": {
        "id": "KlqZpqHsrE07"
      }
    },
    {
      "cell_type": "code",
      "source": [
        "#ejemplo del programa a realizar"
      ],
      "metadata": {
        "colab": {
          "base_uri": "https://localhost:8080/"
        },
        "id": "WH7iFX31tig0",
        "outputId": "735b9e09-3634-435d-bca2-3f10a4d695f0"
      },
      "execution_count": null,
      "outputs": [
        {
          "output_type": "stream",
          "name": "stdout",
          "text": [
            "Ingrese su tarjeta(4 digitos)\n",
            "4975\n",
            "Ingrese su clave(4 digitos)\n",
            "7615\n",
            "Bienvenido Juan Paz\n",
            "Su saldo es: 5000\n",
            "\n",
            "¿Que operación desea realizar?\n",
            "1. Deposito\n",
            "2. Retiro\n",
            "2\n",
            "Ingrese el monto1000\n",
            "¿Desea hacer otra operacion[si/no]?\n",
            "si\n",
            "\n",
            "¿Que operación desea realizar?\n",
            "1. Deposito\n",
            "2. Retiro\n",
            "1\n",
            "Ingrese el monto:\n",
            "500\n",
            "¿Desea hacer otra operacion[si/no]?\n",
            "si\n",
            "\n",
            "¿Que operación desea realizar?\n",
            "1. Deposito\n",
            "2. Retiro\n",
            "2\n",
            "Ingrese el monto200\n",
            "¿Desea hacer otra operacion[si/no]?\n",
            "no\n",
            "\n",
            "Estado de cuenta de 4975\n",
            "tu saldo inicial era: 5000\n",
            "\n",
            "moviminentos\n",
            "\n",
            "  operacion  importe  saldo\n",
            "0    Retiro     1000   4000\n",
            "1  Deposito      500   4500\n",
            "2    Retiro      200   4300\n",
            "\n",
            "tu saldo final es: 4300\n",
            "\n",
            "\n",
            "Encuentre el detalle en: EECC_4975.xlsx\n"
          ]
        }
      ]
    },
    {
      "cell_type": "markdown",
      "source": [
        "# Tipo II: Enfoque analitico"
      ],
      "metadata": {
        "id": "rTNhA3dBubta"
      }
    },
    {
      "cell_type": "markdown",
      "source": [
        "## Objetivo\n",
        "Programar una funcion que sirva de asistente para la produccion de mapas a nivel de departamento ofreciendo departamentos y variables a elegir."
      ],
      "metadata": {
        "id": "eVF1Rf3NuiiS"
      }
    },
    {
      "cell_type": "markdown",
      "source": [
        "## Condiciones\n",
        "\n",
        "\n",
        "*   Se empleara la data de mapas de provincias presentado en la ultima clase.\n",
        "*   Ningun dato ingresado por el usuario puede generar un error que detenga el programa, siempre que el usuario coloque numeros.(4p)\n",
        "*   El programa debe comenzar listando los departamentos e indicando un indice para que el usuario pueda seleccionarlo(2p)\n",
        "*   Una vez elegido el departamento se listan las variables del dataframe con sus indices para que el usuario pueda elegirlos.(2p)\n",
        "*   Una vez elegido la variable a graficar aparece el mapa del departamento mostrando los datos a nivel de provincia en sus colores.(6p)\n",
        "*   Adicional a los datos del dataframe provincia se debe buscar algun otro dato que resulte relevante para el analisis a nivel de provincia y aplicar un cruce de datos por medio del nombre de la provincia o codigo de provincia(de ser necesario solo pueden colocar los datos a las filas de un departamento en el que probaran la funcion)(6p)\n",
        "\n"
      ],
      "metadata": {
        "id": "vVn-edJVu5o7"
      }
    },
    {
      "cell_type": "code",
      "source": [
        "#ejemplo del programa a realizar"
      ],
      "metadata": {
        "colab": {
          "base_uri": "https://localhost:8080/",
          "height": 1000
        },
        "id": "C3knF7wdxSxq",
        "outputId": "e70fb27a-b04d-47be-c85b-47514cff21af"
      },
      "execution_count": null,
      "outputs": [
        {
          "name": "stdout",
          "output_type": "stream",
          "text": [
            "Hola tenemos informacion de los siguientes departamentos\n",
            "1 <--- AMAZONAS\n",
            "2 <--- ANCASH\n",
            "3 <--- APURIMAC\n",
            "4 <--- AREQUIPA\n",
            "5 <--- AYACUCHO\n",
            "6 <--- CAJAMARCA\n",
            "7 <--- CALLAO\n",
            "8 <--- CUSCO\n",
            "9 <--- HUANCAVELICA\n",
            "10 <--- HUANUCO\n",
            "11 <--- ICA\n",
            "12 <--- JUNIN\n",
            "13 <--- LA LIBERTAD\n",
            "14 <--- LAMBAYEQUE\n",
            "15 <--- LIMA\n",
            "16 <--- LORETO\n",
            "17 <--- MADRE DE DIOS\n",
            "18 <--- MOQUEGUA\n",
            "19 <--- PASCO\n",
            "20 <--- PIURA\n",
            "21 <--- PUNO\n",
            "22 <--- SAN MARTIN\n",
            "23 <--- TACNA\n",
            "24 <--- TUMBES\n",
            "25 <--- UCAYALI\n",
            "Ingrese el numero del departamento elegido\n",
            "13\n",
            "Usted eligio LA LIBERTAD\n",
            "\n",
            "En LA LIBERTAD contamos con las siguientes provincias\n",
            "1 <--- TRUJILLO\n",
            "2 <--- ASCOPE\n",
            "3 <--- BOLIVAR\n",
            "4 <--- CHEPEN\n",
            "5 <--- JULCAN\n",
            "6 <--- OTUZCO\n",
            "7 <--- PACASMAYO\n",
            "8 <--- PATAZ\n",
            "9 <--- SANCHEZ CARRION\n",
            "10 <--- SANTIAGO DE CHUCO\n",
            "11 <--- GRAN CHIMU\n",
            "12 <--- VIRU\n",
            "\n",
            "Contamos con lo siguientes datos:\n",
            "\n",
            "1 <--- OBJECTID\n",
            "2 <--- NOMBDEP\n",
            "3 <--- IDPROV\n",
            "4 <--- CCPP\n",
            "5 <--- CCDD\n",
            "6 <--- NOMBPROV\n",
            "7 <--- FUENTE\n",
            "8 <--- POB_PROYEC\n",
            "9 <--- POBTOTAL\n",
            "10 <--- POB_EDAD_T\n",
            "11 <--- POB_EDAD_1\n",
            "12 <--- POB_EDAD_E\n",
            "13 <--- POB_EDAD_2\n",
            "14 <--- DENSIDAD\n",
            "15 <--- POBMASCU\n",
            "16 <--- POBFEMEN\n",
            "17 <--- POBMASCU_P\n",
            "18 <--- POBFEMEN_P\n",
            "19 <--- R_MASCULIN\n",
            "20 <--- POBURBANA\n",
            "21 <--- POBRURAL\n",
            "22 <--- POBURBANA_\n",
            "23 <--- POBRURAL_P\n",
            "24 <--- EDAD_PROME\n",
            "25 <--- EDAD_MEDIA\n",
            "26 <--- POB_0_14\n",
            "27 <--- POB_0_14_P\n",
            "28 <--- POB_15_29\n",
            "29 <--- POB_15_29_\n",
            "30 <--- POB_30_59\n",
            "31 <--- POB_30_59_\n",
            "32 <--- POB_60_MAS\n",
            "33 <--- POB_60_M_1\n",
            "34 <--- POB_ANALFA\n",
            "35 <--- POB_ANAL_1\n",
            "36 <--- HOMBRES_AN\n",
            "37 <--- HOMBRES__1\n",
            "38 <--- MUJERES_AN\n",
            "39 <--- MUJERES__1\n",
            "40 <--- MUJERES_ED\n",
            "41 <--- MUJERES__2\n",
            "42 <--- TOTAL_MADR\n",
            "43 <--- MADRES_SOL\n",
            "44 <--- MADRES_S_1\n",
            "45 <--- MUJERES_AD\n",
            "46 <--- MADRES_ADO\n",
            "47 <--- MADRES_A_1\n",
            "48 <--- AL_MENOS_1\n",
            "49 <--- AL_MENOS_2\n",
            "50 <--- SIN_DISCAP\n",
            "51 <--- SIN_DISC_1\n",
            "52 <--- ALGUNA_NBI\n",
            "53 <--- NBI_PORC\n",
            "54 <--- VIV_PARTIC\n",
            "55 <--- VIV_PART_1\n",
            "56 <--- VIV_PART_2\n",
            "57 <--- HOGARES\n",
            "58 <--- IC_INF\n",
            "59 <--- IC_SUP\n",
            "60 <--- UBIC_POBMO\n",
            "61 <--- TOTAL_DEFU\n",
            "62 <--- TOTAL_DE_1\n",
            "63 <--- TOTAL_DE_2\n",
            "64 <--- NAC_BAJOPE\n",
            "65 <--- NAC_BAJO_1\n",
            "66 <--- MUJERES_NA\n",
            "67 <--- MUJERES__3\n",
            "68 <--- HOMBRES_NA\n",
            "69 <--- HOMBRES__2\n",
            "70 <--- TOTAL_NACI\n",
            "71 <--- IND_121951\n",
            "72 <--- IND_122042\n",
            "73 <--- IND_122047\n",
            "74 <--- IND_516462\n",
            "75 <--- IND_516484\n",
            "76 <--- Shape_Leng\n",
            "77 <--- Shape_Area\n",
            "78 <--- Shape_Le_1\n",
            "79 <--- Shape_Ar_1\n",
            "80 <--- geometry\n",
            "Que dato de LA LIBERTAD quiere ver mapeado\n",
            "24\n"
          ]
        },
        {
          "output_type": "display_data",
          "data": {
            "text/plain": [
              "<Figure size 720x720 with 2 Axes>"
            ],
            "image/png": "[encoded data removed]"
          },
          "metadata": {
            "needs_background": "light"
          }
        }
      ]
    }
  ]
}